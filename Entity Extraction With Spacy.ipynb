{
 "cells": [
  {
   "cell_type": "markdown",
   "id": "a5fc894c",
   "metadata": {},
   "source": [
    "## 1.Extracting Phone Numbers"
   ]
  },
  {
   "cell_type": "markdown",
   "id": "547342a7",
   "metadata": {},
   "source": [
    "Phone numbers can have very different formats depending on the country, and matching phone numbers is often a tricky business. The best strategy here is to be specific about the country phone number format you want to parse. If there are several countries, you can add corresponding individual patterns to the matcher. If you have too many countries, then you can relax some conditions and go for a more general pattern (we'll see how to do that).\n"
   ]
  },
  {
   "cell_type": "code",
   "execution_count": 1,
   "id": "503a3924",
   "metadata": {},
   "outputs": [],
   "source": [
    "#Import Spacy \n",
    "import spacy \n",
    "from spacy.matcher import Matcher "
   ]
  },
  {
   "cell_type": "code",
   "execution_count": 2,
   "id": "4a899299",
   "metadata": {},
   "outputs": [],
   "source": [
    "nlp = spacy.load(\"en_core_web_md\") "
   ]
  },
  {
   "cell_type": "code",
   "execution_count": 3,
   "id": "080852c8",
   "metadata": {},
   "outputs": [],
   "source": [
    "doc1 = nlp(\"You can call my office on +1 (221) 102-2423 or email me directly (320) 332-4959 or (221) 200-2994.\")\n",
    "doc2 = nlp(\"You can call me on (221) 102 2423.\")"
   ]
  },
  {
   "cell_type": "markdown",
   "id": "41993918",
   "metadata": {},
   "source": [
    "Let's start with the US phone number format. A US number is written as (541) 754-3010 domestically or +1 (541) 754-3010 internationally. We can form our pattern with an optional +1, then a three-digit area code, then two blocks of numbers separated with an optional -. Here is the pattern:"
   ]
  },
  {
   "cell_type": "code",
   "execution_count": 4,
   "id": "2474c8bc",
   "metadata": {},
   "outputs": [],
   "source": [
    "pattern = [{\"TEXT\": \"+1\", \"OP\": \"?\"}, {\"TEXT\": \"(\"}, {\"SHAPE\": \"ddd\"}, {\"TEXT\": \")\"},{\"SHAPE\": \"ddd\"}, {\"TEXT\": \"-\", \"OP\": \"?\"}, {\"SHAPE\": \"dddd\"}]"
   ]
  },
  {
   "cell_type": "code",
   "execution_count": 5,
   "id": "65e197cc",
   "metadata": {},
   "outputs": [],
   "source": [
    "matcher = Matcher(nlp.vocab)\n",
    "matcher.add(\"usPhonNum\", [pattern])"
   ]
  },
  {
   "cell_type": "code",
   "execution_count": 7,
   "id": "114ddf2a",
   "metadata": {},
   "outputs": [
    {
     "name": "stdout",
     "output_type": "stream",
     "text": [
      "6 13 +1 (221) 102-2423\n",
      "7 13 (221) 102-2423\n",
      "17 23 (320) 332-4959\n",
      "24 30 (221) 200-2994\n"
     ]
    }
   ],
   "source": [
    "#Extract the Phone numbers\n",
    "for mid, start, end in matcher(doc1):\n",
    "    print(start, end, doc1[start:end])"
   ]
  },
  {
   "cell_type": "code",
   "execution_count": null,
   "id": "a5e37cef",
   "metadata": {},
   "outputs": [],
   "source": []
  }
 ],
 "metadata": {
  "kernelspec": {
   "display_name": "Python 3 (ipykernel)",
   "language": "python",
   "name": "python3"
  },
  "language_info": {
   "codemirror_mode": {
    "name": "ipython",
    "version": 3
   },
   "file_extension": ".py",
   "mimetype": "text/x-python",
   "name": "python",
   "nbconvert_exporter": "python",
   "pygments_lexer": "ipython3",
   "version": "3.9.7"
  }
 },
 "nbformat": 4,
 "nbformat_minor": 5
}
